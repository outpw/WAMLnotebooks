{
 "cells": [
  {
   "cell_type": "markdown",
   "metadata": {},
   "source": [
    "## Introduction to Python for Map Librarians"
   ]
  },
  {
   "cell_type": "markdown",
   "metadata": {},
   "source": [
    "The __print__ function"
   ]
  },
  {
   "cell_type": "code",
   "execution_count": null,
   "metadata": {},
   "outputs": [],
   "source": []
  },
  {
   "cell_type": "markdown",
   "metadata": {},
   "source": [
    "### Basic Data Types\n",
    "\n",
    "- Numbers: 6, 2.305, -4\n",
    "\n",
    "\n",
    "- Strings: 'Hello', 'Reno, Nevada' , '3'\n",
    "\n",
    "\n",
    "- Lists: ['a','b','c','d']\n",
    "\n",
    "Try the following:\n",
    "\n",
    "    >>> print (type(5))\n",
    "    >>> print (type('Reno, Nevada'))\n",
    "    >>> print (type(['maps','atlases',6])\n"
   ]
  },
  {
   "cell_type": "code",
   "execution_count": null,
   "metadata": {},
   "outputs": [],
   "source": [
    "\n",
    "\n"
   ]
  },
  {
   "cell_type": "markdown",
   "metadata": {},
   "source": [
    "### Variables\n",
    "\n",
    "Create a variable called __conference__ which contains a string value: __'WAML'__\n",
    "\n",
    "Create a variable called __year__ which contains a number: __2019__\n",
    "\n",
    "Create a variable called __days__ which contains a list: __['Wednesday','Thursday','Friday','Saturday']__\n",
    "\n",
    "\n",
    "    >>> conference = 'WAML'\n",
    "    >>> year = 2019\n",
    "    >>> list = ['Wednesday','Thursday','Friday','Saturday']\n",
    "    >>> print (conference, year, days)\n",
    "    "
   ]
  },
  {
   "cell_type": "code",
   "execution_count": null,
   "metadata": {},
   "outputs": [],
   "source": []
  },
  {
   "cell_type": "markdown",
   "metadata": {},
   "source": [
    "Assign a new value to the year variable:\n",
    "\n",
    "    >>> year = 2018\n",
    "    >>> print (conference, year, days)"
   ]
  },
  {
   "cell_type": "code",
   "execution_count": null,
   "metadata": {},
   "outputs": [],
   "source": [
    "\n"
   ]
  },
  {
   "cell_type": "markdown",
   "metadata": {},
   "source": [
    "### Lists\n",
    "\n",
    "Use __append__ to add an item to a list:\n",
    "\n",
    "    >>> days.append('Sunday')\n",
    "    \n",
    "Use __remove__ to remove an item from a list:\n",
    "\n",
    "    >>> days.remove('Sunday')"
   ]
  },
  {
   "cell_type": "code",
   "execution_count": null,
   "metadata": {},
   "outputs": [],
   "source": []
  },
  {
   "cell_type": "markdown",
   "metadata": {},
   "source": [
    "### Concatenating Strings\n",
    "\n",
    "Use __+__ to concatenate strings \n",
    "\n",
    "__>>> print ('Python' + 'Workshop')__\n",
    "\n",
    "*PythonWorkshop*\n",
    "\n",
    "__>>> print ('Python ' + 'Workshop')__\n",
    "\n",
    "*Python  Workshop*\n",
    "\n",
    "__>>> print ('Python ' + year)__\n",
    "\n",
    "*TypeError*\n",
    "\n",
    "__>>> print ('Python ' + str(year))__\n",
    "\n",
    "*Python 2019*\n"
   ]
  },
  {
   "cell_type": "code",
   "execution_count": null,
   "metadata": {},
   "outputs": [],
   "source": []
  },
  {
   "cell_type": "markdown",
   "metadata": {},
   "source": [
    "### Indexing\n",
    "\n",
    "Access an element of a string or a list based on position\n",
    "\n",
    "\n",
    "Print the first letter of the variable __conference__:\n",
    "\n",
    "    >>> print (conference[0])\n",
    "\n",
    "Print the fourth letter of the word Geospatial:\n",
    "\n",
    "    >>> print ('Geospatial'[3])\n",
    "\n",
    "Print the third item from the list __days__:\n",
    "\n",
    "    >>> print (days[2])\n",
    "\n",
    "Print the last letter of the word Geospatial:\n",
    "\n",
    "    >>> print ('Geospatial'[-1])\n",
    "\n",
    "Prints the second to last item from the list __days__:\n",
    "\n",
    "    >>> print (days[-2])\n",
    "\n",
    "Index error:\n",
    "\n",
    "    >>> print (days[14])"
   ]
  },
  {
   "cell_type": "code",
   "execution_count": null,
   "metadata": {
    "scrolled": true
   },
   "outputs": [],
   "source": []
  },
  {
   "cell_type": "markdown",
   "metadata": {},
   "source": [
    "### Slicing\n",
    "\n",
    "Access a subset of data using slice notation\n",
    "\n",
    "    >>> print (conference[0:3])\n",
    "\n",
    "    >>> print (days[1:4])\n",
    "\n",
    "    >>> print ('Geospatial'[3:])"
   ]
  },
  {
   "cell_type": "code",
   "execution_count": null,
   "metadata": {},
   "outputs": [],
   "source": []
  },
  {
   "cell_type": "markdown",
   "metadata": {},
   "source": [
    "### Splitting Strings\n",
    "\n",
    "\n",
    "Create a string variable called __place__:\n",
    "\n",
    "    >>> place = 'El Dorado County, California'\n",
    "    \n",
    "    >>> print (place)\n",
    "\n",
    "Split the text string using a given delimiter:\n",
    "\n",
    "\n",
    "    >>> print (place.split(','))\n",
    "\n",
    "    >>> print (place.split(' C'))\n",
    "\n",
    "    >>> print (place.split('o', 2))\n",
    "\n",
    "    >>> print (place.split(',')[0])"
   ]
  },
  {
   "cell_type": "code",
   "execution_count": null,
   "metadata": {},
   "outputs": [],
   "source": []
  },
  {
   "cell_type": "markdown",
   "metadata": {},
   "source": [
    "### Loops\n",
    "\n",
    "Perform actions multiple times using __for loops__\n",
    "\n",
    "    >>> print (days)\n",
    "    \n",
    "    >>> for day in days:\n",
    "       >>> print (day)\n",
    "    >>> print ('Loop finished running!')   "
   ]
  },
  {
   "cell_type": "code",
   "execution_count": null,
   "metadata": {},
   "outputs": [],
   "source": []
  },
  {
   "cell_type": "markdown",
   "metadata": {},
   "source": [
    "### Modules\n",
    "\n",
    "Importing a module\n",
    "\n",
    "    >>> import time\n",
    "    >>> time.ctime()"
   ]
  },
  {
   "cell_type": "code",
   "execution_count": null,
   "metadata": {},
   "outputs": [],
   "source": []
  },
  {
   "cell_type": "markdown",
   "metadata": {},
   "source": [
    "#### OS\n",
    "\n",
    "Use OS for operating system functionality.\n",
    "\n",
    "    >>> import os\n",
    "    \n",
    "    >>> print (os.getcwd())\n",
    "\n",
    "    >>> print (os.listdir())\n",
    "\n",
    "    >>> os.chdir('..')"
   ]
  },
  {
   "cell_type": "code",
   "execution_count": null,
   "metadata": {},
   "outputs": [],
   "source": []
  },
  {
   "cell_type": "markdown",
   "metadata": {},
   "source": [
    "#### Help Documentation\n",
    "\n",
    "Using __help( )__ to view documentation for a module\n",
    "\n",
    "    >>> help(os.getcwd)"
   ]
  },
  {
   "cell_type": "code",
   "execution_count": null,
   "metadata": {},
   "outputs": [],
   "source": []
  },
  {
   "cell_type": "markdown",
   "metadata": {},
   "source": [
    "#### Pandas\n",
    "\n",
    "Import the Pandas library using a common shortcut:\n",
    "\n",
    "    >>> import pandas as pd"
   ]
  },
  {
   "cell_type": "code",
   "execution_count": null,
   "metadata": {},
   "outputs": [],
   "source": []
  },
  {
   "cell_type": "markdown",
   "metadata": {},
   "source": [
    "#### Reading a File into a Dataframe\n",
    "\n",
    "Use __read_csv__ to import a csv file into a dataframe:\n",
    "\n",
    "    >>> pd.read_csv('workshopdata/California_Tahoe_Counties_raw.csv')"
   ]
  },
  {
   "cell_type": "code",
   "execution_count": null,
   "metadata": {},
   "outputs": [],
   "source": []
  },
  {
   "cell_type": "markdown",
   "metadata": {},
   "source": [
    "Create a variable called __California__ and read a file into a dataframe\n",
    "\n",
    "    >>> California = pd.read_csv('workshopdata/California_Tahoe_Counties_raw.csv')\n",
    "    \n",
    "Use __shape__ to view the dimensions (rows, columns) of the dataframe\n",
    "\n",
    "    >>> California.shape    \n"
   ]
  },
  {
   "cell_type": "code",
   "execution_count": null,
   "metadata": {},
   "outputs": [],
   "source": []
  },
  {
   "cell_type": "markdown",
   "metadata": {},
   "source": [
    "Use the __drop__ to remove the first row:\n",
    "\n",
    "    >>> California = California.drop([0])\n",
    "    \n",
    "Use __rename__ to rename a column\n",
    "\n",
    "    >>> California = California.rename(columns = {'FIPS':'GEOID'})\n",
    "\n",
    "Use __set_index__ to use GEOID labels as \n",
    "\n",
    "    >>> California = California.set_index('GEOID')"
   ]
  },
  {
   "cell_type": "code",
   "execution_count": 173,
   "metadata": {},
   "outputs": [],
   "source": [
    "import pandas as pd\n",
    "California = pd.read_csv('workshopdata/California_Tahoe_Counties_raw.csv')\n"
   ]
  },
  {
   "cell_type": "markdown",
   "metadata": {},
   "source": [
    "### Finding and Selecting Data\n",
    "\n",
    "\n",
    "Select by Column Name\n",
    "\n",
    "    >>> California['Name of Area']\n",
    "    \n",
    "Using __loc__\n",
    "\n",
    "   \n",
    "    >>> California.loc[6]\n",
    "\n",
    "    >>> California.loc[:,'Housing Units']\n",
    "\n",
    "    >>> California.loc[3:12 :,'Housing Units']\n",
    "\n",
    "    >>> California.loc[3,'Housing Units']\n",
    "    "
   ]
  },
  {
   "cell_type": "code",
   "execution_count": null,
   "metadata": {},
   "outputs": [],
   "source": []
  },
  {
   "cell_type": "markdown",
   "metadata": {},
   "source": [
    "__Set an Index field__\n",
    "\n",
    "    >>> California = California.set_index('GEOID')"
   ]
  },
  {
   "cell_type": "code",
   "execution_count": null,
   "metadata": {},
   "outputs": [],
   "source": []
  },
  {
   "cell_type": "markdown",
   "metadata": {},
   "source": [
    "### Adding a New Column\n",
    "\n",
    "Add a new column called __Year__ and assign a value of __2017__\n",
    "\n",
    "    >>> California['Year'] = 2017\n",
    "\n",
    "    >>> California\n",
    "    \n",
    "The new column is added to the end of the dataframe."
   ]
  },
  {
   "cell_type": "code",
   "execution_count": null,
   "metadata": {},
   "outputs": [],
   "source": []
  },
  {
   "cell_type": "markdown",
   "metadata": {},
   "source": [
    "Create a new column called __County Name__ by splitting another column\n",
    "\n",
    "    >>> County = California['Name of Area'].str.split(',', n = 2, expand=True)\n",
    "    >>> County\n",
    "    >>> County[1]\n",
    "    >>> California['County Name'] = County[1]\n",
    "    >>> California"
   ]
  },
  {
   "cell_type": "code",
   "execution_count": null,
   "metadata": {},
   "outputs": [],
   "source": []
  },
  {
   "cell_type": "markdown",
   "metadata": {},
   "source": [
    "### Exporting the Dataframe\n",
    "\n",
    "Use __to_csv( )__ to write the dataframe to a *.csv*\n",
    "\n",
    "    >>> California.to_csv('California_Counties.csv')"
   ]
  },
  {
   "cell_type": "code",
   "execution_count": null,
   "metadata": {},
   "outputs": [],
   "source": []
  },
  {
   "cell_type": "markdown",
   "metadata": {},
   "source": [
    "Repeat the same steps for 'Nevada_Tahoe_Counties_raw.csv':\n",
    "\n",
    "    >>> Nevada = pd.read_csv('workshopdata/Nevada_Tahoe_Counties_raw.csv')\n",
    "    >>> Nevada = Nevada.drop([0])\n",
    "    >>> Nevada = Nevada.rename(columns={'FIPS':'GEOID'})\n",
    "    >>> Nevada['Year'] = 2017\n",
    "    >>> County = Nevada['Name of Area'].str.split(',', expand=True)\n",
    "    >>> Nevada['County Name'] = County[1]\n",
    "    >>> Nevada = Nevada.set_index('GEOID')\n",
    "    >>> Nevada.to_csv('Nevada_Counties.csv') "
   ]
  },
  {
   "cell_type": "code",
   "execution_count": null,
   "metadata": {},
   "outputs": [],
   "source": []
  },
  {
   "cell_type": "markdown",
   "metadata": {},
   "source": [
    "### Repeating Actions with Loops\n",
    "\n",
    "\n",
    "#### Finding Files\n",
    "\n",
    "The __glob__ module finds all files in a directory matching a particular pattern.\n",
    "\n",
    "Create a variable called __raw_data__ and use glob to search for all files containing *raw.csv*\n",
    "\n",
    "    >>> import glob\n",
    "\n",
    "    >>> raw_data = glob.glob('*raw.csv')\n",
    "\n",
    "    >>> print (raw_data)"
   ]
  },
  {
   "cell_type": "code",
   "execution_count": null,
   "metadata": {},
   "outputs": [],
   "source": []
  },
  {
   "cell_type": "markdown",
   "metadata": {},
   "source": [
    "Loop over the list of files and read each csv into a dataframe variable called __df__.\n",
    "\n",
    "    >>> for f in raw_data:\n",
    "        >>> print (f)\n",
    "        >>> df = pd.read_csv(f)"
   ]
  },
  {
   "cell_type": "code",
   "execution_count": null,
   "metadata": {
    "scrolled": true
   },
   "outputs": [],
   "source": []
  },
  {
   "cell_type": "markdown",
   "metadata": {},
   "source": [
    "Perform the following actions on each __df__ dataframe:\n",
    "\n",
    "    >>> for f in raw_data:\n",
    "        >>> df = pd.read_csv(f)                              \n",
    "        >>> df = df.drop([0])                                \n",
    "        >>> df = df.rename(columns={'FIPS':'GEOID'}) \n",
    "        >>> df = df.set_index('GEOID')\n",
    "        >>> df[Year] = 2017\n",
    "        >>> county = df['Name of Area\"].str.split(',', expand=True)\n",
    "        >>> df[\"County Name\"] = county[1]\n",
    "        \n",
    "Create a new filename by aplitting the string and using all text before '_raw'\n",
    "\n",
    "        >>> new_file = f.replace('/','_')\n",
    "        >>> new_file = new_file.split('_raw')[0] + '.csv'\n",
    "\n",
    "Write the csv data to the home directory.\n",
    "\n",
    "        >>> df.to_csv(new_file + '.csv')\n"
   ]
  },
  {
   "cell_type": "code",
   "execution_count": null,
   "metadata": {},
   "outputs": [],
   "source": []
  },
  {
   "cell_type": "markdown",
   "metadata": {},
   "source": [
    "### Concatenate Dataframes\n",
    "\n",
    "Use __concat__ to concatenate files.\n",
    "\n",
    "Create a variable called __All_Cos__ and concatenate __California__ and __Nevada__. \n",
    "\n",
    "\n",
    "    >>> All_Cos = pd.concat([California, Nevada])\n",
    "    >>> All_Cos"
   ]
  },
  {
   "cell_type": "code",
   "execution_count": null,
   "metadata": {},
   "outputs": [],
   "source": []
  },
  {
   "cell_type": "markdown",
   "metadata": {},
   "source": [
    "Write __All_Cos__ to a csv file called 'All_Counties.csv'\n",
    "\n",
    "    >>> All_Cos.to_csv('All_Counties.csv')"
   ]
  },
  {
   "cell_type": "code",
   "execution_count": null,
   "metadata": {},
   "outputs": [],
   "source": []
  },
  {
   "cell_type": "markdown",
   "metadata": {},
   "source": [
    "__Tip__\n",
    "\n",
    "The command *%whos* will output a list of all variables and modules currently being used by the program"
   ]
  },
  {
   "cell_type": "code",
   "execution_count": null,
   "metadata": {},
   "outputs": [],
   "source": []
  }
 ],
 "metadata": {
  "kernelspec": {
   "display_name": "Python 3",
   "language": "python",
   "name": "python3"
  },
  "language_info": {
   "codemirror_mode": {
    "name": "ipython",
    "version": 3
   },
   "file_extension": ".py",
   "mimetype": "text/x-python",
   "name": "python",
   "nbconvert_exporter": "python",
   "pygments_lexer": "ipython3",
   "version": "3.6.7"
  }
 },
 "nbformat": 4,
 "nbformat_minor": 2
}
